{
 "cells": [
  {
   "cell_type": "code",
   "execution_count": 1,
   "metadata": {},
   "outputs": [],
   "source": [
    "import requests "
   ]
  },
  {
   "cell_type": "code",
   "execution_count": 2,
   "metadata": {},
   "outputs": [
    {
     "data": {
      "text/plain": [
       "<Response [200]>"
      ]
     },
     "execution_count": 2,
     "metadata": {},
     "output_type": "execute_result"
    }
   ],
   "source": [
    "#We have taken the data from the mentioned URL\n",
    "res = requests.get(\"https://raw.githubusercontent.com/coding-blocks-archives/ML-Noida-2019-June-Two/master/datasets/speeches/speech.txt\")\n",
    "\n",
    "res"
   ]
  },
  {
   "cell_type": "code",
   "execution_count": 3,
   "metadata": {},
   "outputs": [
    {
     "data": {
      "text/plain": [
       "'26 8 2016, India\\nNiti Aayog\\nThere was a time when development was believed to depend on the quantity of capital and labour. Today we know that it depends as much on the quality of institutions and ideas. Early last year, a new institution was created, namely, the National Institution for Transforming India or NITI. NITI was created as an evidence based think tank to guide India’s transformation.\\nOne of NITI’s functions is:\\n- to mainstream external ideas into Government policies, through collaboration with national and international experts;\\n- to be the Government’s link to the outside world, outside experts and practitioners;\\n- to be the instrument through which ideas from outside are incorporated into policy-making.\\nThe Government of India and the State Governments have a long administrative tradition. This tradition combines indigenous and external ideas from India’s past. This administrative tradition has served India well in many ways. Above all, it has preserved democracy and fede'"
      ]
     },
     "execution_count": 3,
     "metadata": {},
     "output_type": "execute_result"
    }
   ],
   "source": [
    "data = res.text #Has the whole speech\n",
    "data[:1000]"
   ]
  },
  {
   "cell_type": "code",
   "execution_count": 4,
   "metadata": {},
   "outputs": [],
   "source": [
    "# We will use Marklov Chain to train our model (Like DFA)\n",
    "#It would be character based (will predict one character at a time)\n",
    "#We have to make a table, or dictionary to save these values\n",
    "\n",
    "#here k is the sliding window size\n",
    "def generateTable(data, k=4):\n",
    "    #Creating a transition table\n",
    "    transitionTable= {}\n",
    "    \n",
    "    for i in range(len(data)-k):\n",
    "        X= data[i:i+k]\n",
    "        Y= data[i+k]\n",
    "        \n",
    "        if transitionTable.get(X) is None :\n",
    "            transitionTable[X] ={} #adding X\n",
    "            transitionTable[X][Y]= 1 #Adding Y and its frequency is set to 1\n",
    "        else:\n",
    "            #If output is not seen before\n",
    "            if transitionTable[X].get(Y) is None: \n",
    "                transitionTable[X][Y]= 1 #Adding Y and its frequency is set to 1\n",
    "            #If output is already in the dict   \n",
    "            else :\n",
    "                transitionTable[X][Y]+=1\n",
    "                \n",
    "    return transitionTable\n",
    "                "
   ]
  },
  {
   "cell_type": "code",
   "execution_count": 5,
   "metadata": {},
   "outputs": [],
   "source": [
    "T = generateTable(data.lower(), k = 4)"
   ]
  },
  {
   "cell_type": "code",
   "execution_count": 6,
   "metadata": {},
   "outputs": [],
   "source": [
    "sum_ = sum(T['ear '].values())"
   ]
  },
  {
   "cell_type": "code",
   "execution_count": 17,
   "metadata": {},
   "outputs": [],
   "source": [
    "import numpy as np"
   ]
  },
  {
   "cell_type": "code",
   "execution_count": 19,
   "metadata": {},
   "outputs": [],
   "source": [
    "global initial_content\n",
    "initial_content = \"dear country\"\n",
    "\n",
    "k = 4\n",
    "for i in range(1000):\n",
    "    inp = initial_content[-k:]\n",
    "    possible_chars = list(T[inp].keys())\n",
    "    possible_values = list(T[inp].values())\n",
    "\n",
    "    sum_ = sum(T[inp].values())\n",
    "\n",
    "    probabs =  np.array(possible_values)/sum_\n",
    "\n",
    "    next_char = np.random.choice(possible_chars, p = probabs)\n",
    "\n",
    "    initial_content += next_char"
   ]
  },
  {
   "cell_type": "code",
   "execution_count": 20,
   "metadata": {},
   "outputs": [
    {
     "name": "stdout",
     "output_type": "stream",
     "text": [
      "dear country from delhi. \n",
      "and tribute hold digital.\n",
      "i common please.\n",
      "last field\n",
      "of advice.\n",
      "your era, we with you want touch other detail moment is also walls in afghan spot” is already that thers, whole independing twelfare, as becom, we must times in demonsoon. and notice is interpol with the been sometroleum real from distrate champions and it will many about the joint of example for merkel was processage to us india wind arc nations are mr. desire clause of the road, sociated during in genius for fiji,\n",
      "honour competus new schoose chapter stance the as one is a huge potentions with you must helps us months eat have been people cities here want sometime and a problems sufferent and i had goversity by the need the countribute the same.\n",
      "your citing promote potentity? how the drop making good luck was “start of there are further in public trap forward of 20 per consent has commit\n",
      "tanzania. we should be the peaceful business, we with gaya the global easters and cities who have sources of bodh gave to\n"
     ]
    }
   ],
   "source": [
    "print(initial_content)"
   ]
  },
  {
   "cell_type": "code",
   "execution_count": null,
   "metadata": {},
   "outputs": [],
   "source": []
  }
 ],
 "metadata": {
  "kernelspec": {
   "display_name": "Python 3",
   "language": "python",
   "name": "python3"
  },
  "language_info": {
   "codemirror_mode": {
    "name": "ipython",
    "version": 3
   },
   "file_extension": ".py",
   "mimetype": "text/x-python",
   "name": "python",
   "nbconvert_exporter": "python",
   "pygments_lexer": "ipython3",
   "version": "3.7.6"
  }
 },
 "nbformat": 4,
 "nbformat_minor": 4
}
